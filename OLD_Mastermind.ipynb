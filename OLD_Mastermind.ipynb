{
 "cells": [
  {
   "cell_type": "markdown",
   "metadata": {},
   "source": [
    "### Create a function to choose a code randomly\n",
    "\n",
    "It returns a list of n numbers (defined by the code_lenght parameter) chosen randomly from a range 1 up to n (defined by the available_numbers parameter). For the sake of later comparison the type of the elements of the list is changed to str. "
   ]
  },
  {
   "cell_type": "code",
   "execution_count": 1,
   "metadata": {},
   "outputs": [],
   "source": [
    "import random"
   ]
  },
  {
   "cell_type": "code",
   "execution_count": 2,
   "metadata": {
    "scrolled": false
   },
   "outputs": [],
   "source": [
    "def random_code(available_numbers = 6, code_length = 4):\n",
    "    rand_code = [str(random.randint(1, available_numbers)) for i in range(code_length)]\n",
    "    return rand_code"
   ]
  },
  {
   "cell_type": "code",
   "execution_count": 3,
   "metadata": {},
   "outputs": [],
   "source": [
    "### Checking random_code function\n",
    "\n",
    "# codemaker_code = random_code()\n",
    "# print(codemaker_code)\n",
    "# print(type(codemaker_code))\n",
    "# print(type(codemaker_code[0]))"
   ]
  },
  {
   "cell_type": "markdown",
   "metadata": {},
   "source": [
    "### Request a code from the user\n",
    "\n",
    "The action is divided in two functions, one that controls the workflow of the request (ask for input, check it, ask again if not valid) and another one that controls the validation logic."
   ]
  },
  {
   "cell_type": "code",
   "execution_count": 4,
   "metadata": {
    "scrolled": false
   },
   "outputs": [],
   "source": [
    "def check_code(code, available_numbers = 6, code_length = 4):\n",
    "    return code.isdigit() and len(code) == code_length and all([int(position) in range(1, (available_numbers + 1)) for position in code])\n",
    "        \n",
    "\n",
    "def ask_code(available_numbers = 6, code_length = 4):\n",
    "    user_choice = input('Choose your code (leave no spaces between the numbers): ')\n",
    "    while not check_code(user_choice):\n",
    "        print('That\\'s not a valid option! Remember your code must have', code_length, 'elements and only include integer numbers from 1 to ', available_numbers)\n",
    "        user_choice = input('Choose your code (leave no spaces between the numbers): ')\n",
    "    chosen_code = [i for i in user_choice]\n",
    "    return chosen_code \n",
    "\n"
   ]
  },
  {
   "cell_type": "code",
   "execution_count": 5,
   "metadata": {},
   "outputs": [],
   "source": [
    "### Checking ask_code function\n",
    "\n",
    "# codebreaker_code = ask_code()\n",
    "# print(codebreaker_code)\n",
    "# print(type(codebreaker_code))\n",
    "# print(type(codebreaker_code[0]))"
   ]
  },
  {
   "cell_type": "markdown",
   "metadata": {},
   "source": [
    "### Create a function that compares two codes\n"
   ]
  },
  {
   "cell_type": "code",
   "execution_count": 6,
   "metadata": {},
   "outputs": [],
   "source": [
    "def check_round (codemaker_choice, codebreaker_choice):\n",
    "    available_indexes = [0, 1, 2, 3]\n",
    "    black_pegs = 0\n",
    "    white_pegs = 0\n",
    "    \n",
    "    ## First iteration: check black pegs (equal elements in the same position). When an element from the codes is matched, its index is removed from the index list so it is not considered in the second iteration:\n",
    "    for x in range(len(codebreaker_choice)):\n",
    "        if codebreaker_choice[x] == codemaker_choice[x]:\n",
    "            black_pegs += 1\n",
    "            available_indexes.remove(x)\n",
    "            \n",
    "    ## Create intermediate lists with the elements still unmatched in the codemaker and the codebreaker codes:\n",
    "    available_codemaker_elements = [codemaker_choice[x] for x in available_indexes]\n",
    "    available_codebreaker_elements = [codebreaker_choice[x] for x in available_indexes]\n",
    "\n",
    "    \n",
    "    ## Second iteration: check white pegs (same elements in different position). It only considers the remaining elements to be compared in both codes. Position is not considered. Everytime a match is made, the element is eliminated from the intermediate lists: \n",
    "    for x in available_codebreaker_elements:\n",
    "        if x in available_codemaker_elements: \n",
    "            white_pegs += 1\n",
    "            available_codemaker_elements.remove(x)\n",
    "            \n",
    "    ## Return a tuple with the results of the round (number of black pegs, number of white pegs)        \n",
    "    return black_pegs, white_pegs"
   ]
  },
  {
   "cell_type": "code",
   "execution_count": 7,
   "metadata": {},
   "outputs": [],
   "source": [
    "### Checking check_round function\n",
    "\n",
    "# codemaker_choice = ['green', 'yellow', 'green', 'red']\n",
    "# codebreaker_choice = ['purple', 'yellow', 'yellow', 'green']\n",
    "\n",
    "# results = check_round(codemaker_choice, codebreaker_choice)\n",
    "# print('There are', results[0], 'black pegs and', results[1], 'white pegs.')\n",
    "# print(type(results))\n",
    "# print(type(results[0]))\n"
   ]
  },
  {
   "cell_type": "markdown",
   "metadata": {},
   "source": [
    "### Create the game workflow\n",
    "\n",
    "Initialize the game: set number of rounds and code to guess. Provide game instructions to the user.\n",
    "Create a loop for each round: ask for guess code, compare codes, provide feedback to user, check possible end points.\n"
   ]
  },
  {
   "cell_type": "code",
   "execution_count": 8,
   "metadata": {},
   "outputs": [
    {
     "name": "stdout",
     "output_type": "stream",
     "text": [
      "\n",
      "WELCOME TO MASTERMIND!\n",
      "\n",
      "In order to win the game, you will need to guess the secret code!\n",
      "It is a code formed by 4 digits. Each digit is in the range of 1 to 6 (both included)\n",
      "For each correct digit in the correct position, you will get a (x) key\n",
      "For each correct digit in the wrong position, you will get a (o) key\n",
      "You have 10 rounds to guess the code. Are you ready?\n",
      "(press any key to start)\n",
      "\n",
      "\n",
      "Choose your code (leave no spaces between the numbers): 6532\n",
      "\n",
      "                      ROUND  1 :           Your guess is  ['6', '5', '3', '2']      Your key is  x o\n",
      "\n",
      "\n",
      "Choose your code (leave no spaces between the numbers): 4321\n",
      "\n",
      "                      ROUND  2 :           Your guess is  ['4', '3', '2', '1']      Your key is   oo\n",
      "\n",
      "\n",
      "|||||||||||||||||||||||||||||||||||||||||||||||||   YOU LOSE   ||||||||||||||||||||||||||||||||||||||||||||||||\n"
     ]
    }
   ],
   "source": [
    "total_rounds = 2\n",
    "codemaker_choice = random_code()\n",
    "# print(codemaker_choice) ## Use only for demo purposes\n",
    "print('')\n",
    "print('WELCOME TO MASTERMIND!')\n",
    "print('')\n",
    "print('In order to win the game, you will need to guess the secret code!')\n",
    "print('It is a code formed by 4 digits. Each digit is in the range of 1 to 6 (both included)')\n",
    "print('For each correct digit in the correct position, you will get a (x) key')\n",
    "print('For each correct digit in the wrong position, you will get a (o) key')      \n",
    "print('You have 10 rounds to guess the code. Are you ready?')\n",
    "input('(press any key to start)')\n",
    "      \n",
    "for i in range(total_rounds):\n",
    "    print('')\n",
    "    print('')\n",
    "    codebreaker_choice = ask_code()\n",
    "    round_results = check_round(codemaker_choice, codebreaker_choice)\n",
    "    print('') \n",
    "    print('                      ROUND ', i + 1, ':           Your guess is ', codebreaker_choice, '     Your key is ', ('x' * round_results[0]), ('o' * round_results[1]))\n",
    "    if codebreaker_choice == codemaker_choice:\n",
    "        print('')\n",
    "        print('') \n",
    "        print('|||||||||||||||||||||||||||||||||||||||||||||||||   YOU WIN   |||||||||||||||||||||||||||||||||||||||||||||||||')\n",
    "        break\n",
    "    if i + 1 == total_rounds:\n",
    "        print('')\n",
    "        print('') \n",
    "        print('|||||||||||||||||||||||||||||||||||||||||||||||||   YOU LOSE   ||||||||||||||||||||||||||||||||||||||||||||||||')"
   ]
  },
  {
   "cell_type": "code",
   "execution_count": 8,
   "metadata": {},
   "outputs": [
    {
     "data": {
      "text/plain": [
       "11"
      ]
     },
     "execution_count": 8,
     "metadata": {},
     "output_type": "execute_result"
    }
   ],
   "source": [
    "import random\n",
    "c = random.choice(range(8, 12))\n",
    "c"
   ]
  },
  {
   "cell_type": "code",
   "execution_count": 13,
   "metadata": {
    "scrolled": true
   },
   "outputs": [
    {
     "name": "stdout",
     "output_type": "stream",
     "text": [
      "9\n"
     ]
    }
   ],
   "source": [
    "print(random.randint(0,9))"
   ]
  },
  {
   "cell_type": "code",
   "execution_count": 19,
   "metadata": {},
   "outputs": [
    {
     "name": "stdout",
     "output_type": "stream",
     "text": [
      "What is the maximal length of the triangle side? Enter a number: 12\n",
      "[[5, 4, 3], [10, 6, 8], [10, 8, 6]]\n"
     ]
    }
   ],
   "source": [
    "def my_function(X):\n",
    "    solutions = []\n",
    "    for x in range(5, X):\n",
    "        for y in range(4, X):\n",
    "            for z in range(3, X):\n",
    "                if (x*x==y*y+z*z):\n",
    "                    solutions.append([x, y, z])\n",
    "#     m = 0\n",
    "#     for solution in solutions:\n",
    "#         if m < max(solution):\n",
    "#             m = max(solution)\n",
    "    return solutions\n",
    "\n",
    "X = input(\"What is the maximal length of the triangle side? Enter a number: \")\n",
    "\n",
    "print(my_function(int(X)))"
   ]
  },
  {
   "cell_type": "code",
   "execution_count": 20,
   "metadata": {},
   "outputs": [
    {
     "data": {
      "text/plain": [
       "True"
      ]
     },
     "execution_count": 20,
     "metadata": {},
     "output_type": "execute_result"
    }
   ],
   "source": [
    "[5, 4, 3] < [10, 6, 8]"
   ]
  },
  {
   "cell_type": "code",
   "execution_count": null,
   "metadata": {},
   "outputs": [],
   "source": []
  }
 ],
 "metadata": {
  "kernelspec": {
   "display_name": "Python 3",
   "language": "python",
   "name": "python3"
  },
  "language_info": {
   "codemirror_mode": {
    "name": "ipython",
    "version": 3
   },
   "file_extension": ".py",
   "mimetype": "text/x-python",
   "name": "python",
   "nbconvert_exporter": "python",
   "pygments_lexer": "ipython3",
   "version": "3.7.4"
  }
 },
 "nbformat": 4,
 "nbformat_minor": 2
}
